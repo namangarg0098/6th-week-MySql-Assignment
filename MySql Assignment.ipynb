{
 "cells": [
  {
   "cell_type": "markdown",
   "id": "8ef63209-39c6-451f-ba57-81ddc1ff9303",
   "metadata": {},
   "source": [
    "Q1 -> what is database? Differentiate between SQL and NoSql databases"
   ]
  },
  {
   "cell_type": "code",
   "execution_count": 2,
   "id": "69d7b141-66db-4a81-8e6e-e13d854711c5",
   "metadata": {},
   "outputs": [],
   "source": [
    "# SQL database or relational database is a collection of highly structured tables, wherein each row reflects a data entity, and every column \n",
    "# defines a specific information field. Relational databases are built using the structured query language (SQL) to create, store, update, and retrieve\n",
    "# data.\n"
   ]
  },
  {
   "cell_type": "code",
   "execution_count": 1,
   "id": "a5acad94-f846-49df-81fb-b15bf52f4c1b",
   "metadata": {},
   "outputs": [],
   "source": [
    "# SQL databases are table-based, while NoSQL databases are document, key-value, graph, or wide-column stores.\n",
    "# SQL databases are better for multi-row transactions, while NoSQL is better for unstructured data like documents or JSON.\n"
   ]
  },
  {
   "cell_type": "code",
   "execution_count": 3,
   "id": "c74e7aee-8889-412e-bab3-2fdcae2cbd23",
   "metadata": {},
   "outputs": [],
   "source": [
    "# The table below summarizes the main differences between SQL and NoSQL databases.\n",
    "\n",
    "# SQL Databases\n",
    "# NoSQL Databases\n",
    "\n",
    "# Data Storage Model -:\n",
    "# Tables with fixed rows and columns\n",
    "# Document: JSON documents, Key-value: key-value pairs, Wide-column: tables with rows and dynamic columns, Graph: nodes and edges\n",
    "\n",
    "# Development History -:\n",
    "# Developed in the 1970s with a focus on reducing data duplication\n",
    "# Developed in the late 2000s with a focus on scaling and allowing for rapid application change driven by agile and DevOps practices.\n",
    "\n",
    "# Examples -:\n",
    "# Oracle, MySQL, Microsoft SQL Server, and PostgreSQL\n",
    "# Document: MongoDB and CouchDB, Key-value: Redis and DynamoDB, Wide-column: Cassandra and HBase, Graph: Neo4j and Amazon Neptune\n",
    "\n",
    "# Primary Purpose -:\n",
    "# General purpose\n",
    "# Document: general purpose, Key-value: large amounts of data with simple lookup queries, Wide-column: large amounts of data with predictable query\n",
    "# patterns, Graph: analyzing and traversing relationships between connected data\n",
    "\n",
    "# Schemas -:\n",
    "# Rigid\n",
    "# Flexible\n",
    "\n",
    "# Scaling -:\n",
    "# Vertical (scale-up with a larger server)\n",
    "# Horizontal (scale-out across commodity servers)\n",
    "\n",
    "# Multi-Record ACID Transactions -:\n",
    "# Supported\n",
    "# Most do not support multi-record ACID transactions. However, some — like MongoDB — do.\n",
    "\n",
    "# Joins -:\n",
    "# Typically required\n",
    "# Typically not required\n",
    "\n",
    "# Data to Object Mapping -:\n",
    "# Requires ORM (object-relational mapping)\n",
    "# Many do not require ORMs. MongoDB documents map directly to data structures in most popular programming languages."
   ]
  },
  {
   "cell_type": "code",
   "execution_count": null,
   "id": "841b7918-3ba7-49a3-9813-0783241e9bb1",
   "metadata": {},
   "outputs": [],
   "source": []
  },
  {
   "cell_type": "code",
   "execution_count": null,
   "id": "51275bcc-2d85-4b25-bea8-da1fbdfdbe31",
   "metadata": {},
   "outputs": [],
   "source": []
  },
  {
   "cell_type": "markdown",
   "id": "2c5a60ac-ec4f-4165-8cbc-cd6180a7b8bf",
   "metadata": {},
   "source": [
    "Q2. What is DDL? Explain why CREATE, DROP, ALTER, and TRUNCATE are used with an example."
   ]
  },
  {
   "cell_type": "code",
   "execution_count": 4,
   "id": "70cc204d-79d3-4047-a707-423ced38d0ac",
   "metadata": {},
   "outputs": [],
   "source": [
    "# Data definition language (DDL) describes the portion of SQL that creates, alters, and deletes database objects. These database objects include \n",
    "# schemas, tables, views, sequences, catalogs, indexes, variables, masks, permissions, and aliases.\n"
   ]
  },
  {
   "cell_type": "code",
   "execution_count": 10,
   "id": "b5b4bbea-9338-4ac0-ad2f-53d2f0c58e93",
   "metadata": {},
   "outputs": [],
   "source": [
    "# CREATE \n",
    "\n",
    "# The CREATE PROCEDURE command is used to create a stored procedure. A stored procedure is a prepared SQL code that you can save, so the code\n",
    "# can be reused over and over again.\n",
    "\n",
    "# for ex-:\n",
    "\n",
    "# The CREATE DATABASE command is used is to create a new SQL database.\n",
    "# CREATE DATABASE testDB;\n",
    "\n",
    "# The CREATE TABLE command creates a new table in the database.\n",
    "# CREATE TABLE Persons (\n",
    "#     PersonID int,\n",
    "#     LastName varchar(255),\n",
    "#     FirstName varchar(255),\n",
    "#     Address varchar(255),\n",
    "#     City varchar(255)\n",
    "# );"
   ]
  },
  {
   "cell_type": "code",
   "execution_count": 9,
   "id": "8680cd48-5c4b-4830-ae9e-4199b67b59f7",
   "metadata": {},
   "outputs": [],
   "source": [
    "# DROP\n",
    "\n",
    "# The Drop command in SQL not only deletes a table but also deletes other entities such as database, column, index, constraint, etc.\n",
    "# For example, the DROP COLUMN command deletes the specified column from the table, and the DROP DATABASE command deletes the specified database\n",
    "# and all of its information.\n",
    "\n",
    "# syntax -:\n",
    "# DROP object object_name\n",
    "\n",
    "# To drop a database -:\n",
    "# DROP DATABASE database_name;\n"
   ]
  },
  {
   "cell_type": "code",
   "execution_count": 8,
   "id": "14d5caba-5fdf-4841-b1b7-e647a26c9fbd",
   "metadata": {},
   "outputs": [],
   "source": [
    "# ALTER \n",
    "\n",
    "# The ALTER command in SQL is used to make changes to a table, view, or the entire database. We can add, modify, and drop constraints, columns,\n",
    "# and indexes using the ALTER command in SQL.24-Feb-2023\n",
    "\n",
    "# The ALTER command is a DDL command to modify the structure of existing tables in the database by adding, modifying, renaming, or dropping columns \n",
    "# and constraints. You can add columns, rename columns, delete columns, or change the data type of columns using the ALTER command.\n",
    "\n",
    "# FOR EXAMPLE -:\n",
    "\n",
    "# To add a column in a table, use the following syntax:\n",
    "\n",
    "# ALTER TABLE table_name\n",
    "# ADD column_name datatype;\n"
   ]
  },
  {
   "cell_type": "code",
   "execution_count": 7,
   "id": "50d03acd-e0cb-4b69-b1fd-8c4f80057a75",
   "metadata": {},
   "outputs": [],
   "source": [
    "# TRUNCATE\n",
    "\n",
    "# The major difference between TRUNCATE and DROP is that truncate is used to delete the data inside the table not the whole table.\n",
    "\n",
    "# TRUNCATE statement is a Data Definition Language (DDL) operation that is used to mark the extent of a table for deallocation (empty for reuse).\n",
    "# The result of this operation quickly removes all data from a table, typically bypassing several integrity-enforcing mechanisms.\n",
    "# The TRUNCATE TABLE mytable statement is logically (though not physically) equivalent to the DELETE FROM mytable statement (without a WHERE clause).\n",
    "\n",
    "\n",
    "# Syntax -:\n",
    "\n",
    "# TRUNCATE TABLE  table_name;\n",
    "# table_name: Name of the table to be truncated.\n",
    "# DATABASE name – student_data"
   ]
  },
  {
   "cell_type": "code",
   "execution_count": null,
   "id": "1109a3c1-e73a-486d-a094-055535f86731",
   "metadata": {},
   "outputs": [],
   "source": []
  },
  {
   "cell_type": "markdown",
   "id": "56dde14f-6d26-418d-98b8-bd6d01116523",
   "metadata": {},
   "source": [
    "Q3. What is DML? Explain INSERT, UPDATE, and DELETE with an example.\n"
   ]
  },
  {
   "cell_type": "code",
   "execution_count": 11,
   "id": "2647b64d-b1e7-4602-839d-a9adf83dfbf5",
   "metadata": {},
   "outputs": [],
   "source": [
    "# Data Manipulation Language (DML) is a class of SQL statements that are used to query, edit, add and delete row-level data from database tables."
   ]
  },
  {
   "cell_type": "code",
   "execution_count": 12,
   "id": "4d2da9b2-4bfd-4b93-aa3b-65f2087a6534",
   "metadata": {},
   "outputs": [],
   "source": [
    "# INSERT \n",
    "\n",
    "# INSERT is your go-to for adding single or multiple rows to a table. INSERT can also help with adding rows from one table into another table.\n",
    "\n",
    "# The basic structure of an SQL INSERT statement:\n",
    "\n",
    "# INSERT INTO tableName\n",
    "# (column1, column2, ...)\n",
    "# VALUES (value1, value2, ...)\n"
   ]
  },
  {
   "cell_type": "code",
   "execution_count": 13,
   "id": "502af5fc-1e2b-43b3-9f28-3b679a2df245",
   "metadata": {},
   "outputs": [],
   "source": [
    "# UPDATE \n",
    "\n",
    "# The SQL UPDATE statement is another common task used by data engineers and database administrators. Use it to change a column value for one or\n",
    "# multiple rows.\n",
    "\n",
    "# The basic structure of an SQL UPDATE Statement\n",
    "\n",
    "# UPDATE tableName\n",
    "# SET column1=value1, column2=value2,...\n",
    "# WHERE filterColumn=filterValue"
   ]
  },
  {
   "cell_type": "code",
   "execution_count": 14,
   "id": "cdc92c77-cae9-422e-a8de-34dfd860b437",
   "metadata": {},
   "outputs": [],
   "source": [
    "# DELETE\n",
    "\n",
    "# SQL DELETE is the diaper change of the SQL world. Is there something you don't want in there? Delete it!\n",
    "\n",
    "# DELETE removes one or multiple rows from a table, but be careful! You need to make sure you know what you're deleting before you go\n",
    "# ahead and commit to the statement!\n",
    "\n",
    "# Here's what your average SQL DELETE statement looks like:\n",
    "\n",
    "# DELETE tableName\n",
    "# WHERE  filterColumn=filterValue;"
   ]
  },
  {
   "cell_type": "code",
   "execution_count": null,
   "id": "8a9039ce-eec7-4796-8d0b-a4bfeffe846a",
   "metadata": {},
   "outputs": [],
   "source": []
  },
  {
   "cell_type": "markdown",
   "id": "58017325-0025-4087-9116-bfa98e394680",
   "metadata": {},
   "source": [
    "Q4. What is DQL? Explain SELECT with an example.\n"
   ]
  },
  {
   "cell_type": "code",
   "execution_count": 15,
   "id": "9e1b339d-50c6-455f-905b-fee7f5c97549",
   "metadata": {},
   "outputs": [],
   "source": [
    "# The full form of DQL is Data Query Language. DQL is a part of the grouping involved in SQL (Structures Query Language) sub-languages. \n",
    "# The SQL sub languages have four major categories, DQL, DDL, DCL, and DML.\n"
   ]
  },
  {
   "cell_type": "code",
   "execution_count": 16,
   "id": "b87623ef-cbea-4af6-9265-e0d3bf757981",
   "metadata": {},
   "outputs": [],
   "source": [
    "# SELECT\n",
    "\n",
    "# One of the most important tasks when working with SQL is to generate Queries and retrieve data. A Query is a command given to get a desired\n",
    "# result from the database table. The SELECT command is used to query or retrieve data from a table in the database. It is used to retrieve a\n",
    "# subset of records from one or more tables. The SELECT command can be used in various forms:\n",
    "\n",
    "# Syntax of SELECT command :\n",
    "\n",
    "# SELECT <column-list>FROM<table-name>;\n",
    "\n",
    "# · Table-name is the name of the table from which the information is retrieved.\n",
    "# · Column-list includes one or more columns from which data is retrieved."
   ]
  },
  {
   "cell_type": "code",
   "execution_count": null,
   "id": "03bb8491-1ce6-4f0d-bcb8-a0c454a2f329",
   "metadata": {},
   "outputs": [],
   "source": []
  },
  {
   "cell_type": "markdown",
   "id": "a8c709a4-41e7-472b-8d15-36a397549ba9",
   "metadata": {},
   "source": [
    "Q5. Explain Primary Key and Foreign Key."
   ]
  },
  {
   "cell_type": "code",
   "execution_count": 17,
   "id": "eb5c58c4-55d2-491e-9589-e3028cad7611",
   "metadata": {},
   "outputs": [],
   "source": [
    "# A primary key is a column (or set of columns) in a table that uniquely identifies each row in the table. It cannot contain null values and must be\n",
    "# unique across all rows in the table. Only one primary key is allowed in a table.\n",
    "\n",
    "# A primary key is basically a combination of the 'UNIQUE' and 'Not Null' constraints. Thus, it cannot be a NULL value. Another important point \n",
    "# to be noted about primary key is that its value cannot be deleted from the parent table."
   ]
  },
  {
   "cell_type": "code",
   "execution_count": null,
   "id": "22001572-5044-48e2-b292-cab6ce5ad714",
   "metadata": {},
   "outputs": [],
   "source": []
  },
  {
   "cell_type": "code",
   "execution_count": 18,
   "id": "5f27b539-f5f1-4ea5-8ef3-189db1cc0a2c",
   "metadata": {},
   "outputs": [],
   "source": [
    "# A foreign key is a column (or set of columns) in a table that refers to the primary key in another table. It is used to establish a link between\n",
    "# the two tables and is used to enforce referential integrity in the database. Foreign key is basically the field/column in a table that is analogous\n",
    "# to the primary key of other table.\n",
    "\n",
    "# Unlike a primary key, a table can have more than one foreign key. Also, the foreign key can contain duplicate and null values in a relational\n",
    "# database. The value of a foreign key can be deleted from the child table."
   ]
  },
  {
   "cell_type": "code",
   "execution_count": null,
   "id": "d626da74-f95f-477e-bc74-00b1d75d8dda",
   "metadata": {},
   "outputs": [],
   "source": []
  },
  {
   "cell_type": "code",
   "execution_count": null,
   "id": "4a4df2f1-807e-49e0-8a9e-a9282d5e4365",
   "metadata": {},
   "outputs": [],
   "source": []
  },
  {
   "cell_type": "markdown",
   "id": "c43b71ed-25da-46c7-b359-b83d9ff16699",
   "metadata": {},
   "source": [
    "Q6. Write a python code to connect MySQL to python. Explain the cursor() and execute() method.\n"
   ]
  },
  {
   "cell_type": "code",
   "execution_count": 19,
   "id": "e81a8117-10e3-4de4-bd77-3c115ede980b",
   "metadata": {},
   "outputs": [],
   "source": [
    "# import mysql.connector\n",
    "\n",
    "# mydb = mysql.connector.connect(\n",
    "#   host=\"localhost\",\n",
    "#   user=\"yourusername\",\n",
    "#   password=\"yourpassword\"\n",
    "# )\n",
    "\n",
    "# print(mydb)"
   ]
  },
  {
   "cell_type": "code",
   "execution_count": 20,
   "id": "e4def718-2e05-4587-abb2-82b360507169",
   "metadata": {},
   "outputs": [],
   "source": [
    "# CURSOR()\n",
    "\n",
    "# The MySQLCursor class instantiates objects that can execute operations such as SQL statements. Cursor objects interact with the MySQL server using\n",
    "# a MySQLConnection object. To create a cursor, use the cursor() method of a connection object: import mysql. connector cnx = mysql. connector.\n"
   ]
  },
  {
   "cell_type": "code",
   "execution_count": 21,
   "id": "c9d185c1-a393-4141-840b-cc823a1b6034",
   "metadata": {},
   "outputs": [],
   "source": [
    "# EXECUTE()\n",
    "\n",
    "# execute(operation, params=None, multi=True) This method executes the given database operation (query or command). The parameters found in the tuple\n",
    "# or dictionary params are bound to the variables in the operation. Specify variables using %s or %( name )s parameter style (that is, using format or\n",
    "# pyformat style).\n"
   ]
  },
  {
   "cell_type": "code",
   "execution_count": null,
   "id": "231faf68-2213-4f88-88ff-9c4dfaa86df2",
   "metadata": {},
   "outputs": [],
   "source": []
  },
  {
   "cell_type": "markdown",
   "id": "5de9a77f-d6c0-40f1-8a93-dab87c0bb487",
   "metadata": {},
   "source": [
    "Q7. Give the order of execution of SQL clauses in an SQL query."
   ]
  },
  {
   "cell_type": "code",
   "execution_count": 22,
   "id": "ecba2051-a325-42b5-862a-eb6056f98b30",
   "metadata": {},
   "outputs": [],
   "source": [
    "# SQL queries are used to access a set of records present in our database tables. SQL queries are made up of one or more clauses. A particular order\n",
    "# must be followed to execute these clauses to obtain correct results. This order of execution is known as SQL query execution order.\n"
   ]
  },
  {
   "cell_type": "code",
   "execution_count": 23,
   "id": "a9dd49da-4156-4370-ae45-60c48be377c0",
   "metadata": {},
   "outputs": [],
   "source": [
    "# Order\tClause\t    Function\n",
    "# 1\t    FROM\t    Tables are joined to get the base data.\n",
    "# 2\t    WHERE\t    The base data is filtered.\n",
    "# 3\t    GROUP BY\tThe filtered base data is grouped.\n",
    "# 4\t    HAVING\t    The grouped base data is filtered.\n",
    "# 5\t    SELECT\t    The final data is returned.\n",
    "# 6\t    ORDER BY\tThe final data is sorted.\n",
    "# 7\t    LIMIT\t    The returned data is limited to row count."
   ]
  },
  {
   "cell_type": "code",
   "execution_count": 24,
   "id": "45fc40fc-60b1-4574-87d0-af9721f09e21",
   "metadata": {},
   "outputs": [],
   "source": [
    "# Table 1 - Customers\n",
    "\n",
    "# customer_id\tfirst_name\n",
    "# 1\t         John\n",
    "# 2\t         Robert\n",
    "# 3\t         David\n",
    "# 4\t         John\n",
    "# 5\t         Betty"
   ]
  },
  {
   "cell_type": "code",
   "execution_count": 25,
   "id": "e23392d7-b79d-466e-8b96-05913e111ef5",
   "metadata": {},
   "outputs": [],
   "source": [
    "# Table 2 - Order\n",
    "\n",
    "# order_id\tamount\tcustomer_id\n",
    "# 1\t         200\t4\n",
    "# 2\t         500\t10\n",
    "# 3\t         300\t3\n",
    "# 4\t         800\t1\n",
    "# 5\t         150\t2"
   ]
  },
  {
   "cell_type": "code",
   "execution_count": 26,
   "id": "dfb2a2f5-7154-4d6f-bce2-d2c12793d414",
   "metadata": {},
   "outputs": [],
   "source": [
    "# SELECT Customers.customer_id, Customers.first_name, Orders.amount, Orders.order_id\n",
    "# FROM Customers\n",
    "# JOIN Orders\n",
    "# ON Customers.customer_id = Orders.customer_id\n",
    "# WHERE Orders.order_id <=4\n",
    "# ORDER BY Orders.order_id ASC\n",
    "# LIMIT 2\n"
   ]
  },
  {
   "cell_type": "code",
   "execution_count": null,
   "id": "b767f2bd-f105-4f5d-a76f-01ce25e99fb5",
   "metadata": {},
   "outputs": [],
   "source": []
  },
  {
   "cell_type": "code",
   "execution_count": null,
   "id": "aad6fb21-0c30-46cc-824a-4a040a7cad3a",
   "metadata": {},
   "outputs": [],
   "source": []
  }
 ],
 "metadata": {
  "kernelspec": {
   "display_name": "Python 3 (ipykernel)",
   "language": "python",
   "name": "python3"
  },
  "language_info": {
   "codemirror_mode": {
    "name": "ipython",
    "version": 3
   },
   "file_extension": ".py",
   "mimetype": "text/x-python",
   "name": "python",
   "nbconvert_exporter": "python",
   "pygments_lexer": "ipython3",
   "version": "3.10.8"
  }
 },
 "nbformat": 4,
 "nbformat_minor": 5
}
